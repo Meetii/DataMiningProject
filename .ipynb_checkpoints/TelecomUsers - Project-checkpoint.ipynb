{
 "cells": [
  {
   "cell_type": "markdown",
   "id": "092fc2ca",
   "metadata": {},
   "source": [
    "# The dataset is from Kaggle \n",
    "# The data set contains information about almost six thousands users, their payment methods, payment amounts, services they use ect.\n",
    "\n",
    "# It important for the comapny to keep their cusotmers and to reduce the customer turn over which will increase the revenu of the company. \n",
    "# We will analyse the data set"
   ]
  },
  {
   "cell_type": "code",
   "execution_count": 2,
   "id": "9eca4751",
   "metadata": {},
   "outputs": [],
   "source": [
    "import pandas as pd\n",
    "df = pd.read_csv('telecom_users.csv')"
   ]
  },
  {
   "cell_type": "code",
   "execution_count": 3,
   "id": "99a9af53",
   "metadata": {},
   "outputs": [],
   "source": [
    "import numpy as np\n",
    "import nltk\n",
    "import matplotlib.pyplot as plt\n",
    "import seaborn as sns\n",
    "from sklearn.metrics import confusion_matrix\n",
    "from sklearn import metrics\n",
    "from sklearn.metrics import roc_curve, auc\n",
    "from sklearn import *\n",
    "from sklearn.model_selection import train_test_split\n",
    "\n",
    "from sklearn.decomposition import PCA\n",
    "from sklearn.preprocessing import StandardScaler\n",
    "from sklearn.model_selection import train_test_split"
   ]
  },
  {
   "cell_type": "code",
   "execution_count": 4,
   "id": "21102d1e",
   "metadata": {},
   "outputs": [
    {
     "name": "stdout",
     "output_type": "stream",
     "text": [
      "<class 'pandas.core.frame.DataFrame'>\n",
      "RangeIndex: 5986 entries, 0 to 5985\n",
      "Data columns (total 22 columns):\n",
      " #   Column            Non-Null Count  Dtype  \n",
      "---  ------            --------------  -----  \n",
      " 0   Unnamed: 0        5986 non-null   int64  \n",
      " 1   customerID        5986 non-null   object \n",
      " 2   gender            5986 non-null   object \n",
      " 3   SeniorCitizen     5986 non-null   int64  \n",
      " 4   Partner           5986 non-null   object \n",
      " 5   Dependents        5986 non-null   object \n",
      " 6   tenure            5986 non-null   int64  \n",
      " 7   PhoneService      5986 non-null   object \n",
      " 8   MultipleLines     5986 non-null   object \n",
      " 9   InternetService   5986 non-null   object \n",
      " 10  OnlineSecurity    5986 non-null   object \n",
      " 11  OnlineBackup      5986 non-null   object \n",
      " 12  DeviceProtection  5986 non-null   object \n",
      " 13  TechSupport       5986 non-null   object \n",
      " 14  StreamingTV       5986 non-null   object \n",
      " 15  StreamingMovies   5986 non-null   object \n",
      " 16  Contract          5986 non-null   object \n",
      " 17  PaperlessBilling  5986 non-null   object \n",
      " 18  PaymentMethod     5986 non-null   object \n",
      " 19  MonthlyCharges    5986 non-null   float64\n",
      " 20  TotalCharges      5986 non-null   object \n",
      " 21  Churn             5986 non-null   object \n",
      "dtypes: float64(1), int64(3), object(18)\n",
      "memory usage: 1.0+ MB\n"
     ]
    }
   ],
   "source": [
    "df.info()"
   ]
  },
  {
   "cell_type": "markdown",
   "id": "5db03113",
   "metadata": {},
   "source": [
    "# We start with some data cleaning, for better visualization of functions"
   ]
  },
  {
   "cell_type": "code",
   "execution_count": 5,
   "id": "1fc0dc97",
   "metadata": {},
   "outputs": [],
   "source": [
    "# Drop \"customerID\" from the dataset\n",
    "df.drop(['Unnamed: 0','customerID'],axis=1, inplace=True)\n",
    "\n",
    "# Delete the rows with ' ' values from \"TotalCharges\" and convert it to float type\n",
    "df=df[df['TotalCharges']!=' ']\n",
    "df['TotalCharges']=df['TotalCharges'].astype('float')"
   ]
  },
  {
   "cell_type": "code",
   "execution_count": 6,
   "id": "9603416c",
   "metadata": {},
   "outputs": [
    {
     "name": "stdout",
     "output_type": "stream",
     "text": [
      "<class 'pandas.core.frame.DataFrame'>\n",
      "Int64Index: 5976 entries, 0 to 5985\n",
      "Data columns (total 20 columns):\n",
      " #   Column            Non-Null Count  Dtype  \n",
      "---  ------            --------------  -----  \n",
      " 0   gender            5976 non-null   object \n",
      " 1   SeniorCitizen     5976 non-null   int64  \n",
      " 2   Partner           5976 non-null   object \n",
      " 3   Dependents        5976 non-null   object \n",
      " 4   tenure            5976 non-null   int64  \n",
      " 5   PhoneService      5976 non-null   object \n",
      " 6   MultipleLines     5976 non-null   object \n",
      " 7   InternetService   5976 non-null   object \n",
      " 8   OnlineSecurity    5976 non-null   object \n",
      " 9   OnlineBackup      5976 non-null   object \n",
      " 10  DeviceProtection  5976 non-null   object \n",
      " 11  TechSupport       5976 non-null   object \n",
      " 12  StreamingTV       5976 non-null   object \n",
      " 13  StreamingMovies   5976 non-null   object \n",
      " 14  Contract          5976 non-null   object \n",
      " 15  PaperlessBilling  5976 non-null   object \n",
      " 16  PaymentMethod     5976 non-null   object \n",
      " 17  MonthlyCharges    5976 non-null   float64\n",
      " 18  TotalCharges      5976 non-null   float64\n",
      " 19  Churn             5976 non-null   object \n",
      "dtypes: float64(2), int64(2), object(16)\n",
      "memory usage: 980.4+ KB\n"
     ]
    }
   ],
   "source": [
    "df.info()"
   ]
  },
  {
   "cell_type": "code",
   "execution_count": 7,
   "id": "c60c5529",
   "metadata": {},
   "outputs": [],
   "source": [
    "# Convert the 3 unique labels (\"Yes\", \"No\", \"No internet\") into 2 binary labels: \"Yes\", \"No\".\n",
    "\n",
    "# Create a list of new binary labels\n",
    "binary={'No':0,'No phone service':0,'No internet service':0,'Yes':1}\n",
    "\n",
    "# Creata a list of variables to be converted to binary ones.\n",
    "cols = ['Partner', 'Dependents', 'PhoneService', 'MultipleLines', 'OnlineSecurity', 'OnlineBackup', 'DeviceProtection',\n",
    "        'TechSupport', 'StreamingTV', 'StreamingMovies', 'PaperlessBilling', 'Churn']\n",
    "\n",
    "for i in cols:\n",
    "    df[i]=df[i].map(binary)"
   ]
  },
  {
   "cell_type": "code",
   "execution_count": 8,
   "id": "10e5e4c8",
   "metadata": {},
   "outputs": [
    {
     "name": "stdout",
     "output_type": "stream",
     "text": [
      "<class 'pandas.core.frame.DataFrame'>\n",
      "Int64Index: 5976 entries, 0 to 5985\n",
      "Data columns (total 20 columns):\n",
      " #   Column            Non-Null Count  Dtype  \n",
      "---  ------            --------------  -----  \n",
      " 0   gender            5976 non-null   object \n",
      " 1   SeniorCitizen     5976 non-null   int64  \n",
      " 2   Partner           5976 non-null   int64  \n",
      " 3   Dependents        5976 non-null   int64  \n",
      " 4   tenure            5976 non-null   int64  \n",
      " 5   PhoneService      5976 non-null   int64  \n",
      " 6   MultipleLines     5976 non-null   int64  \n",
      " 7   InternetService   5976 non-null   object \n",
      " 8   OnlineSecurity    5976 non-null   int64  \n",
      " 9   OnlineBackup      5976 non-null   int64  \n",
      " 10  DeviceProtection  5976 non-null   int64  \n",
      " 11  TechSupport       5976 non-null   int64  \n",
      " 12  StreamingTV       5976 non-null   int64  \n",
      " 13  StreamingMovies   5976 non-null   int64  \n",
      " 14  Contract          5976 non-null   object \n",
      " 15  PaperlessBilling  5976 non-null   int64  \n",
      " 16  PaymentMethod     5976 non-null   object \n",
      " 17  MonthlyCharges    5976 non-null   float64\n",
      " 18  TotalCharges      5976 non-null   float64\n",
      " 19  Churn             5976 non-null   int64  \n",
      "dtypes: float64(2), int64(14), object(4)\n",
      "memory usage: 980.4+ KB\n"
     ]
    }
   ],
   "source": [
    "df.info()"
   ]
  },
  {
   "cell_type": "markdown",
   "id": "ee7ce993",
   "metadata": {},
   "source": [
    "# Data exploration\n"
   ]
  },
  {
   "cell_type": "code",
   "execution_count": 9,
   "id": "a8476df2",
   "metadata": {},
   "outputs": [
    {
     "data": {
      "image/png": "[encoded data removed]",
      "text/plain": [
       "<Figure size 432x288 with 1 Axes>"
      ]
     },
     "metadata": {},
     "output_type": "display_data"
    }
   ],
   "source": [
    "gender = df['gender']\n",
    "plot = gender.value_counts().plot.pie(autopct = '%1.2f%%', labeldistance=1.2)\n",
    "plt.show()"
   ]
  },
  {
   "cell_type": "code",
   "execution_count": 10,
   "id": "16ffe8f3",
   "metadata": {},
   "outputs": [
    {
     "data": {
      "text/plain": [
       "Electronic check             2006\n",
       "Mailed check                 1362\n",
       "Bank transfer (automatic)    1306\n",
       "Credit card (automatic)      1302\n",
       "Name: PaymentMethod, dtype: int64"
      ]
     },
     "execution_count": 10,
     "metadata": {},
     "output_type": "execute_result"
    }
   ],
   "source": [
    "payment_method = df['PaymentMethod'].value_counts()\n",
    "payment_method"
   ]
  },
  {
   "cell_type": "code",
   "execution_count": 11,
   "id": "60be93ee",
   "metadata": {},
   "outputs": [
    {
     "data": {
      "image/png": "[encoded data removed]",
      "text/plain": [
       "<Figure size 432x288 with 1 Axes>"
      ]
     },
     "metadata": {
      "needs_background": "light"
     },
     "output_type": "display_data"
    }
   ],
   "source": [
    "sns.barplot(x = payment_method.index, y = payment_method.values)\n",
    "plt.title('Payment Methods of the customers', fontsize = 18)\n",
    "plt.xlabel('Payment type', fontsize = 14)\n",
    "plt.ylabel('Number of Clients', fontsize = 14)\n",
    "plt.xticks(rotation = 45, fontsize = 13)\n",
    "plt.show()"
   ]
  },
  {
   "cell_type": "code",
   "execution_count": 12,
   "id": "c4eeb5ed",
   "metadata": {},
   "outputs": [
    {
     "data": {
      "text/plain": [
       "<AxesSubplot:>"
      ]
     },
     "execution_count": 12,
     "metadata": {},
     "output_type": "execute_result"
    },
    {
     "data": {
      "image/png": "[encoded data removed]",
      "text/plain": [
       "<Figure size 1440x1440 with 2 Axes>"
      ]
     },
     "metadata": {
      "needs_background": "light"
     },
     "output_type": "display_data"
    }
   ],
   "source": [
    "# Creating the correlation Matrix using SNS Heatmap\n",
    "\n",
    "\n",
    "fig, ax = plt.subplots(figsize=(20,20))\n",
    "corr = df.corr()\n",
    "sns.heatmap(corr, \n",
    "            xticklabels=corr.columns.values,\n",
    "            yticklabels=corr.columns.values,\n",
    "            ax = ax,\n",
    "            annot=True\n",
    "           )"
   ]
  },
  {
   "cell_type": "code",
   "execution_count": 13,
   "id": "8e3792f6",
   "metadata": {
    "scrolled": true
   },
   "outputs": [
    {
     "data": {
      "text/plain": [
       "<AxesSubplot:xlabel='Partner', ylabel='MonthlyCharges'>"
      ]
     },
     "execution_count": 13,
     "metadata": {},
     "output_type": "execute_result"
    },
    {
     "data": {
      "image/png": "[encoded data removed]",
      "text/plain": [
       "<Figure size 432x288 with 1 Axes>"
      ]
     },
     "metadata": {
      "needs_background": "light"
     },
     "output_type": "display_data"
    }
   ],
   "source": [
    "sns.barplot(x='Partner', y='MonthlyCharges', data=df)\n"
   ]
  },
  {
   "cell_type": "code",
   "execution_count": 19,
   "id": "00b13ecd",
   "metadata": {},
   "outputs": [
    {
     "data": {
      "text/html": [
       "<div>\n",
       "<style scoped>\n",
       "    .dataframe tbody tr th:only-of-type {\n",
       "        vertical-align: middle;\n",
       "    }\n",
       "\n",
       "    .dataframe tbody tr th {\n",
       "        vertical-align: top;\n",
       "    }\n",
       "\n",
       "    .dataframe thead th {\n",
       "        text-align: right;\n",
       "    }\n",
       "</style>\n",
       "<table border=\"1\" class=\"dataframe\">\n",
       "  <thead>\n",
       "    <tr style=\"text-align: right;\">\n",
       "      <th></th>\n",
       "      <th>gender</th>\n",
       "      <th>SeniorCitizen</th>\n",
       "      <th>Partner</th>\n",
       "      <th>Dependents</th>\n",
       "      <th>tenure</th>\n",
       "      <th>PhoneService</th>\n",
       "      <th>MultipleLines</th>\n",
       "      <th>InternetService</th>\n",
       "      <th>OnlineSecurity</th>\n",
       "      <th>OnlineBackup</th>\n",
       "      <th>DeviceProtection</th>\n",
       "      <th>TechSupport</th>\n",
       "      <th>StreamingTV</th>\n",
       "      <th>StreamingMovies</th>\n",
       "      <th>Contract</th>\n",
       "      <th>PaperlessBilling</th>\n",
       "      <th>PaymentMethod</th>\n",
       "      <th>MonthlyCharges</th>\n",
       "      <th>TotalCharges</th>\n",
       "      <th>Churn</th>\n",
       "    </tr>\n",
       "  </thead>\n",
       "  <tbody>\n",
       "    <tr>\n",
       "      <th>0</th>\n",
       "      <td>Male</td>\n",
       "      <td>0</td>\n",
       "      <td>1</td>\n",
       "      <td>1</td>\n",
       "      <td>72</td>\n",
       "      <td>1</td>\n",
       "      <td>1</td>\n",
       "      <td>No</td>\n",
       "      <td>0</td>\n",
       "      <td>0</td>\n",
       "      <td>0</td>\n",
       "      <td>0</td>\n",
       "      <td>0</td>\n",
       "      <td>0</td>\n",
       "      <td>Two year</td>\n",
       "      <td>0</td>\n",
       "      <td>Credit card (automatic)</td>\n",
       "      <td>24.10</td>\n",
       "      <td>1734.65</td>\n",
       "      <td>0</td>\n",
       "    </tr>\n",
       "    <tr>\n",
       "      <th>1</th>\n",
       "      <td>Female</td>\n",
       "      <td>0</td>\n",
       "      <td>0</td>\n",
       "      <td>0</td>\n",
       "      <td>44</td>\n",
       "      <td>1</td>\n",
       "      <td>0</td>\n",
       "      <td>Fiber optic</td>\n",
       "      <td>0</td>\n",
       "      <td>1</td>\n",
       "      <td>1</td>\n",
       "      <td>0</td>\n",
       "      <td>1</td>\n",
       "      <td>0</td>\n",
       "      <td>Month-to-month</td>\n",
       "      <td>1</td>\n",
       "      <td>Credit card (automatic)</td>\n",
       "      <td>88.15</td>\n",
       "      <td>3973.20</td>\n",
       "      <td>0</td>\n",
       "    </tr>\n",
       "    <tr>\n",
       "      <th>2</th>\n",
       "      <td>Female</td>\n",
       "      <td>1</td>\n",
       "      <td>1</td>\n",
       "      <td>0</td>\n",
       "      <td>38</td>\n",
       "      <td>1</td>\n",
       "      <td>1</td>\n",
       "      <td>Fiber optic</td>\n",
       "      <td>0</td>\n",
       "      <td>0</td>\n",
       "      <td>0</td>\n",
       "      <td>0</td>\n",
       "      <td>0</td>\n",
       "      <td>0</td>\n",
       "      <td>Month-to-month</td>\n",
       "      <td>1</td>\n",
       "      <td>Bank transfer (automatic)</td>\n",
       "      <td>74.95</td>\n",
       "      <td>2869.85</td>\n",
       "      <td>1</td>\n",
       "    </tr>\n",
       "    <tr>\n",
       "      <th>3</th>\n",
       "      <td>Male</td>\n",
       "      <td>0</td>\n",
       "      <td>0</td>\n",
       "      <td>0</td>\n",
       "      <td>4</td>\n",
       "      <td>1</td>\n",
       "      <td>0</td>\n",
       "      <td>DSL</td>\n",
       "      <td>0</td>\n",
       "      <td>0</td>\n",
       "      <td>0</td>\n",
       "      <td>0</td>\n",
       "      <td>0</td>\n",
       "      <td>1</td>\n",
       "      <td>Month-to-month</td>\n",
       "      <td>1</td>\n",
       "      <td>Electronic check</td>\n",
       "      <td>55.90</td>\n",
       "      <td>238.50</td>\n",
       "      <td>0</td>\n",
       "    </tr>\n",
       "    <tr>\n",
       "      <th>4</th>\n",
       "      <td>Male</td>\n",
       "      <td>0</td>\n",
       "      <td>0</td>\n",
       "      <td>0</td>\n",
       "      <td>2</td>\n",
       "      <td>1</td>\n",
       "      <td>0</td>\n",
       "      <td>DSL</td>\n",
       "      <td>1</td>\n",
       "      <td>0</td>\n",
       "      <td>1</td>\n",
       "      <td>0</td>\n",
       "      <td>0</td>\n",
       "      <td>0</td>\n",
       "      <td>Month-to-month</td>\n",
       "      <td>0</td>\n",
       "      <td>Electronic check</td>\n",
       "      <td>53.45</td>\n",
       "      <td>119.50</td>\n",
       "      <td>0</td>\n",
       "    </tr>\n",
       "    <tr>\n",
       "      <th>...</th>\n",
       "      <td>...</td>\n",
       "      <td>...</td>\n",
       "      <td>...</td>\n",
       "      <td>...</td>\n",
       "      <td>...</td>\n",
       "      <td>...</td>\n",
       "      <td>...</td>\n",
       "      <td>...</td>\n",
       "      <td>...</td>\n",
       "      <td>...</td>\n",
       "      <td>...</td>\n",
       "      <td>...</td>\n",
       "      <td>...</td>\n",
       "      <td>...</td>\n",
       "      <td>...</td>\n",
       "      <td>...</td>\n",
       "      <td>...</td>\n",
       "      <td>...</td>\n",
       "      <td>...</td>\n",
       "      <td>...</td>\n",
       "    </tr>\n",
       "    <tr>\n",
       "      <th>5981</th>\n",
       "      <td>Male</td>\n",
       "      <td>0</td>\n",
       "      <td>1</td>\n",
       "      <td>0</td>\n",
       "      <td>1</td>\n",
       "      <td>1</td>\n",
       "      <td>0</td>\n",
       "      <td>Fiber optic</td>\n",
       "      <td>1</td>\n",
       "      <td>0</td>\n",
       "      <td>0</td>\n",
       "      <td>0</td>\n",
       "      <td>1</td>\n",
       "      <td>1</td>\n",
       "      <td>Month-to-month</td>\n",
       "      <td>1</td>\n",
       "      <td>Electronic check</td>\n",
       "      <td>95.00</td>\n",
       "      <td>95.00</td>\n",
       "      <td>1</td>\n",
       "    </tr>\n",
       "    <tr>\n",
       "      <th>5982</th>\n",
       "      <td>Female</td>\n",
       "      <td>0</td>\n",
       "      <td>1</td>\n",
       "      <td>1</td>\n",
       "      <td>23</td>\n",
       "      <td>1</td>\n",
       "      <td>1</td>\n",
       "      <td>DSL</td>\n",
       "      <td>1</td>\n",
       "      <td>1</td>\n",
       "      <td>1</td>\n",
       "      <td>1</td>\n",
       "      <td>1</td>\n",
       "      <td>1</td>\n",
       "      <td>Two year</td>\n",
       "      <td>1</td>\n",
       "      <td>Credit card (automatic)</td>\n",
       "      <td>91.10</td>\n",
       "      <td>2198.30</td>\n",
       "      <td>0</td>\n",
       "    </tr>\n",
       "    <tr>\n",
       "      <th>5983</th>\n",
       "      <td>Male</td>\n",
       "      <td>0</td>\n",
       "      <td>1</td>\n",
       "      <td>1</td>\n",
       "      <td>12</td>\n",
       "      <td>1</td>\n",
       "      <td>0</td>\n",
       "      <td>No</td>\n",
       "      <td>0</td>\n",
       "      <td>0</td>\n",
       "      <td>0</td>\n",
       "      <td>0</td>\n",
       "      <td>0</td>\n",
       "      <td>0</td>\n",
       "      <td>Month-to-month</td>\n",
       "      <td>1</td>\n",
       "      <td>Electronic check</td>\n",
       "      <td>21.15</td>\n",
       "      <td>306.05</td>\n",
       "      <td>0</td>\n",
       "    </tr>\n",
       "    <tr>\n",
       "      <th>5984</th>\n",
       "      <td>Male</td>\n",
       "      <td>1</td>\n",
       "      <td>0</td>\n",
       "      <td>0</td>\n",
       "      <td>12</td>\n",
       "      <td>1</td>\n",
       "      <td>1</td>\n",
       "      <td>Fiber optic</td>\n",
       "      <td>0</td>\n",
       "      <td>0</td>\n",
       "      <td>1</td>\n",
       "      <td>0</td>\n",
       "      <td>1</td>\n",
       "      <td>1</td>\n",
       "      <td>Month-to-month</td>\n",
       "      <td>1</td>\n",
       "      <td>Electronic check</td>\n",
       "      <td>99.45</td>\n",
       "      <td>1200.15</td>\n",
       "      <td>1</td>\n",
       "    </tr>\n",
       "    <tr>\n",
       "      <th>5985</th>\n",
       "      <td>Male</td>\n",
       "      <td>0</td>\n",
       "      <td>0</td>\n",
       "      <td>0</td>\n",
       "      <td>26</td>\n",
       "      <td>1</td>\n",
       "      <td>0</td>\n",
       "      <td>No</td>\n",
       "      <td>0</td>\n",
       "      <td>0</td>\n",
       "      <td>0</td>\n",
       "      <td>0</td>\n",
       "      <td>0</td>\n",
       "      <td>0</td>\n",
       "      <td>One year</td>\n",
       "      <td>0</td>\n",
       "      <td>Credit card (automatic)</td>\n",
       "      <td>19.80</td>\n",
       "      <td>457.30</td>\n",
       "      <td>0</td>\n",
       "    </tr>\n",
       "  </tbody>\n",
       "</table>\n",
       "<p>5976 rows × 20 columns</p>\n",
       "</div>"
      ],
      "text/plain": [
       "      gender  SeniorCitizen  Partner  Dependents  tenure  PhoneService  \\\n",
       "0       Male              0        1           1      72             1   \n",
       "1     Female              0        0           0      44             1   \n",
       "2     Female              1        1           0      38             1   \n",
       "3       Male              0        0           0       4             1   \n",
       "4       Male              0        0           0       2             1   \n",
       "...      ...            ...      ...         ...     ...           ...   \n",
       "5981    Male              0        1           0       1             1   \n",
       "5982  Female              0        1           1      23             1   \n",
       "5983    Male              0        1           1      12             1   \n",
       "5984    Male              1        0           0      12             1   \n",
       "5985    Male              0        0           0      26             1   \n",
       "\n",
       "      MultipleLines InternetService  OnlineSecurity  OnlineBackup  \\\n",
       "0                 1              No               0             0   \n",
       "1                 0     Fiber optic               0             1   \n",
       "2                 1     Fiber optic               0             0   \n",
       "3                 0             DSL               0             0   \n",
       "4                 0             DSL               1             0   \n",
       "...             ...             ...             ...           ...   \n",
       "5981              0     Fiber optic               1             0   \n",
       "5982              1             DSL               1             1   \n",
       "5983              0              No               0             0   \n",
       "5984              1     Fiber optic               0             0   \n",
       "5985              0              No               0             0   \n",
       "\n",
       "      DeviceProtection  TechSupport  StreamingTV  StreamingMovies  \\\n",
       "0                    0            0            0                0   \n",
       "1                    1            0            1                0   \n",
       "2                    0            0            0                0   \n",
       "3                    0            0            0                1   \n",
       "4                    1            0            0                0   \n",
       "...                ...          ...          ...              ...   \n",
       "5981                 0            0            1                1   \n",
       "5982                 1            1            1                1   \n",
       "5983                 0            0            0                0   \n",
       "5984                 1            0            1                1   \n",
       "5985                 0            0            0                0   \n",
       "\n",
       "            Contract  PaperlessBilling              PaymentMethod  \\\n",
       "0           Two year                 0    Credit card (automatic)   \n",
       "1     Month-to-month                 1    Credit card (automatic)   \n",
       "2     Month-to-month                 1  Bank transfer (automatic)   \n",
       "3     Month-to-month                 1           Electronic check   \n",
       "4     Month-to-month                 0           Electronic check   \n",
       "...              ...               ...                        ...   \n",
       "5981  Month-to-month                 1           Electronic check   \n",
       "5982        Two year                 1    Credit card (automatic)   \n",
       "5983  Month-to-month                 1           Electronic check   \n",
       "5984  Month-to-month                 1           Electronic check   \n",
       "5985        One year                 0    Credit card (automatic)   \n",
       "\n",
       "      MonthlyCharges  TotalCharges  Churn  \n",
       "0              24.10       1734.65      0  \n",
       "1              88.15       3973.20      0  \n",
       "2              74.95       2869.85      1  \n",
       "3              55.90        238.50      0  \n",
       "4              53.45        119.50      0  \n",
       "...              ...           ...    ...  \n",
       "5981           95.00         95.00      1  \n",
       "5982           91.10       2198.30      0  \n",
       "5983           21.15        306.05      0  \n",
       "5984           99.45       1200.15      1  \n",
       "5985           19.80        457.30      0  \n",
       "\n",
       "[5976 rows x 20 columns]"
      ]
     },
     "execution_count": 19,
     "metadata": {},
     "output_type": "execute_result"
    }
   ],
   "source": [
    "df"
   ]
  },
  {
   "cell_type": "code",
   "execution_count": 18,
   "id": "e9802a1e",
   "metadata": {},
   "outputs": [
    {
     "data": {
      "text/html": [
       "<div>\n",
       "<style scoped>\n",
       "    .dataframe tbody tr th:only-of-type {\n",
       "        vertical-align: middle;\n",
       "    }\n",
       "\n",
       "    .dataframe tbody tr th {\n",
       "        vertical-align: top;\n",
       "    }\n",
       "\n",
       "    .dataframe thead th {\n",
       "        text-align: right;\n",
       "    }\n",
       "</style>\n",
       "<table border=\"1\" class=\"dataframe\">\n",
       "  <thead>\n",
       "    <tr style=\"text-align: right;\">\n",
       "      <th></th>\n",
       "      <th>gender</th>\n",
       "      <th>SeniorCitizen</th>\n",
       "      <th>Partner</th>\n",
       "      <th>Dependents</th>\n",
       "      <th>tenure</th>\n",
       "      <th>PhoneService</th>\n",
       "      <th>MultipleLines</th>\n",
       "      <th>InternetService</th>\n",
       "      <th>OnlineSecurity</th>\n",
       "      <th>OnlineBackup</th>\n",
       "      <th>DeviceProtection</th>\n",
       "      <th>TechSupport</th>\n",
       "      <th>StreamingTV</th>\n",
       "      <th>StreamingMovies</th>\n",
       "      <th>Contract</th>\n",
       "      <th>PaperlessBilling</th>\n",
       "      <th>PaymentMethod</th>\n",
       "      <th>MonthlyCharges</th>\n",
       "      <th>TotalCharges</th>\n",
       "      <th>Churn</th>\n",
       "    </tr>\n",
       "  </thead>\n",
       "  <tbody>\n",
       "    <tr>\n",
       "      <th>0</th>\n",
       "      <td>Male</td>\n",
       "      <td>0</td>\n",
       "      <td>1</td>\n",
       "      <td>1</td>\n",
       "      <td>1.000000</td>\n",
       "      <td>1.0</td>\n",
       "      <td>1</td>\n",
       "      <td>No</td>\n",
       "      <td>0</td>\n",
       "      <td>0</td>\n",
       "      <td>0</td>\n",
       "      <td>0</td>\n",
       "      <td>0</td>\n",
       "      <td>0</td>\n",
       "      <td>Two year</td>\n",
       "      <td>0</td>\n",
       "      <td>Credit card (automatic)</td>\n",
       "      <td>24.10</td>\n",
       "      <td>1734.65</td>\n",
       "      <td>0.0</td>\n",
       "    </tr>\n",
       "    <tr>\n",
       "      <th>1</th>\n",
       "      <td>Female</td>\n",
       "      <td>0</td>\n",
       "      <td>0</td>\n",
       "      <td>0</td>\n",
       "      <td>0.605634</td>\n",
       "      <td>1.0</td>\n",
       "      <td>0</td>\n",
       "      <td>Fiber optic</td>\n",
       "      <td>0</td>\n",
       "      <td>1</td>\n",
       "      <td>1</td>\n",
       "      <td>0</td>\n",
       "      <td>1</td>\n",
       "      <td>0</td>\n",
       "      <td>Month-to-month</td>\n",
       "      <td>1</td>\n",
       "      <td>Credit card (automatic)</td>\n",
       "      <td>88.15</td>\n",
       "      <td>3973.20</td>\n",
       "      <td>0.0</td>\n",
       "    </tr>\n",
       "    <tr>\n",
       "      <th>2</th>\n",
       "      <td>Female</td>\n",
       "      <td>1</td>\n",
       "      <td>1</td>\n",
       "      <td>0</td>\n",
       "      <td>0.521127</td>\n",
       "      <td>1.0</td>\n",
       "      <td>1</td>\n",
       "      <td>Fiber optic</td>\n",
       "      <td>0</td>\n",
       "      <td>0</td>\n",
       "      <td>0</td>\n",
       "      <td>0</td>\n",
       "      <td>0</td>\n",
       "      <td>0</td>\n",
       "      <td>Month-to-month</td>\n",
       "      <td>1</td>\n",
       "      <td>Bank transfer (automatic)</td>\n",
       "      <td>74.95</td>\n",
       "      <td>2869.85</td>\n",
       "      <td>1.0</td>\n",
       "    </tr>\n",
       "    <tr>\n",
       "      <th>3</th>\n",
       "      <td>Male</td>\n",
       "      <td>0</td>\n",
       "      <td>0</td>\n",
       "      <td>0</td>\n",
       "      <td>0.042254</td>\n",
       "      <td>1.0</td>\n",
       "      <td>0</td>\n",
       "      <td>DSL</td>\n",
       "      <td>0</td>\n",
       "      <td>0</td>\n",
       "      <td>0</td>\n",
       "      <td>0</td>\n",
       "      <td>0</td>\n",
       "      <td>1</td>\n",
       "      <td>Month-to-month</td>\n",
       "      <td>1</td>\n",
       "      <td>Electronic check</td>\n",
       "      <td>55.90</td>\n",
       "      <td>238.50</td>\n",
       "      <td>0.0</td>\n",
       "    </tr>\n",
       "    <tr>\n",
       "      <th>4</th>\n",
       "      <td>Male</td>\n",
       "      <td>0</td>\n",
       "      <td>0</td>\n",
       "      <td>0</td>\n",
       "      <td>0.014085</td>\n",
       "      <td>1.0</td>\n",
       "      <td>0</td>\n",
       "      <td>DSL</td>\n",
       "      <td>1</td>\n",
       "      <td>0</td>\n",
       "      <td>1</td>\n",
       "      <td>0</td>\n",
       "      <td>0</td>\n",
       "      <td>0</td>\n",
       "      <td>Month-to-month</td>\n",
       "      <td>0</td>\n",
       "      <td>Electronic check</td>\n",
       "      <td>53.45</td>\n",
       "      <td>119.50</td>\n",
       "      <td>0.0</td>\n",
       "    </tr>\n",
       "    <tr>\n",
       "      <th>...</th>\n",
       "      <td>...</td>\n",
       "      <td>...</td>\n",
       "      <td>...</td>\n",
       "      <td>...</td>\n",
       "      <td>...</td>\n",
       "      <td>...</td>\n",
       "      <td>...</td>\n",
       "      <td>...</td>\n",
       "      <td>...</td>\n",
       "      <td>...</td>\n",
       "      <td>...</td>\n",
       "      <td>...</td>\n",
       "      <td>...</td>\n",
       "      <td>...</td>\n",
       "      <td>...</td>\n",
       "      <td>...</td>\n",
       "      <td>...</td>\n",
       "      <td>...</td>\n",
       "      <td>...</td>\n",
       "      <td>...</td>\n",
       "    </tr>\n",
       "    <tr>\n",
       "      <th>5981</th>\n",
       "      <td>Male</td>\n",
       "      <td>0</td>\n",
       "      <td>1</td>\n",
       "      <td>0</td>\n",
       "      <td>0.000000</td>\n",
       "      <td>1.0</td>\n",
       "      <td>0</td>\n",
       "      <td>Fiber optic</td>\n",
       "      <td>1</td>\n",
       "      <td>0</td>\n",
       "      <td>0</td>\n",
       "      <td>0</td>\n",
       "      <td>1</td>\n",
       "      <td>1</td>\n",
       "      <td>Month-to-month</td>\n",
       "      <td>1</td>\n",
       "      <td>Electronic check</td>\n",
       "      <td>95.00</td>\n",
       "      <td>95.00</td>\n",
       "      <td>1.0</td>\n",
       "    </tr>\n",
       "    <tr>\n",
       "      <th>5982</th>\n",
       "      <td>Female</td>\n",
       "      <td>0</td>\n",
       "      <td>1</td>\n",
       "      <td>1</td>\n",
       "      <td>0.309859</td>\n",
       "      <td>1.0</td>\n",
       "      <td>1</td>\n",
       "      <td>DSL</td>\n",
       "      <td>1</td>\n",
       "      <td>1</td>\n",
       "      <td>1</td>\n",
       "      <td>1</td>\n",
       "      <td>1</td>\n",
       "      <td>1</td>\n",
       "      <td>Two year</td>\n",
       "      <td>1</td>\n",
       "      <td>Credit card (automatic)</td>\n",
       "      <td>91.10</td>\n",
       "      <td>2198.30</td>\n",
       "      <td>0.0</td>\n",
       "    </tr>\n",
       "    <tr>\n",
       "      <th>5983</th>\n",
       "      <td>Male</td>\n",
       "      <td>0</td>\n",
       "      <td>1</td>\n",
       "      <td>1</td>\n",
       "      <td>0.154930</td>\n",
       "      <td>1.0</td>\n",
       "      <td>0</td>\n",
       "      <td>No</td>\n",
       "      <td>0</td>\n",
       "      <td>0</td>\n",
       "      <td>0</td>\n",
       "      <td>0</td>\n",
       "      <td>0</td>\n",
       "      <td>0</td>\n",
       "      <td>Month-to-month</td>\n",
       "      <td>1</td>\n",
       "      <td>Electronic check</td>\n",
       "      <td>21.15</td>\n",
       "      <td>306.05</td>\n",
       "      <td>0.0</td>\n",
       "    </tr>\n",
       "    <tr>\n",
       "      <th>5984</th>\n",
       "      <td>Male</td>\n",
       "      <td>1</td>\n",
       "      <td>0</td>\n",
       "      <td>0</td>\n",
       "      <td>0.154930</td>\n",
       "      <td>1.0</td>\n",
       "      <td>1</td>\n",
       "      <td>Fiber optic</td>\n",
       "      <td>0</td>\n",
       "      <td>0</td>\n",
       "      <td>1</td>\n",
       "      <td>0</td>\n",
       "      <td>1</td>\n",
       "      <td>1</td>\n",
       "      <td>Month-to-month</td>\n",
       "      <td>1</td>\n",
       "      <td>Electronic check</td>\n",
       "      <td>99.45</td>\n",
       "      <td>1200.15</td>\n",
       "      <td>1.0</td>\n",
       "    </tr>\n",
       "    <tr>\n",
       "      <th>5985</th>\n",
       "      <td>Male</td>\n",
       "      <td>0</td>\n",
       "      <td>0</td>\n",
       "      <td>0</td>\n",
       "      <td>0.352113</td>\n",
       "      <td>1.0</td>\n",
       "      <td>0</td>\n",
       "      <td>No</td>\n",
       "      <td>0</td>\n",
       "      <td>0</td>\n",
       "      <td>0</td>\n",
       "      <td>0</td>\n",
       "      <td>0</td>\n",
       "      <td>0</td>\n",
       "      <td>One year</td>\n",
       "      <td>0</td>\n",
       "      <td>Credit card (automatic)</td>\n",
       "      <td>19.80</td>\n",
       "      <td>457.30</td>\n",
       "      <td>0.0</td>\n",
       "    </tr>\n",
       "  </tbody>\n",
       "</table>\n",
       "<p>5976 rows × 20 columns</p>\n",
       "</div>"
      ],
      "text/plain": [
       "      gender  SeniorCitizen  Partner  Dependents    tenure  PhoneService  \\\n",
       "0       Male              0        1           1  1.000000           1.0   \n",
       "1     Female              0        0           0  0.605634           1.0   \n",
       "2     Female              1        1           0  0.521127           1.0   \n",
       "3       Male              0        0           0  0.042254           1.0   \n",
       "4       Male              0        0           0  0.014085           1.0   \n",
       "...      ...            ...      ...         ...       ...           ...   \n",
       "5981    Male              0        1           0  0.000000           1.0   \n",
       "5982  Female              0        1           1  0.309859           1.0   \n",
       "5983    Male              0        1           1  0.154930           1.0   \n",
       "5984    Male              1        0           0  0.154930           1.0   \n",
       "5985    Male              0        0           0  0.352113           1.0   \n",
       "\n",
       "      MultipleLines InternetService  OnlineSecurity  OnlineBackup  \\\n",
       "0                 1              No               0             0   \n",
       "1                 0     Fiber optic               0             1   \n",
       "2                 1     Fiber optic               0             0   \n",
       "3                 0             DSL               0             0   \n",
       "4                 0             DSL               1             0   \n",
       "...             ...             ...             ...           ...   \n",
       "5981              0     Fiber optic               1             0   \n",
       "5982              1             DSL               1             1   \n",
       "5983              0              No               0             0   \n",
       "5984              1     Fiber optic               0             0   \n",
       "5985              0              No               0             0   \n",
       "\n",
       "      DeviceProtection  TechSupport  StreamingTV  StreamingMovies  \\\n",
       "0                    0            0            0                0   \n",
       "1                    1            0            1                0   \n",
       "2                    0            0            0                0   \n",
       "3                    0            0            0                1   \n",
       "4                    1            0            0                0   \n",
       "...                ...          ...          ...              ...   \n",
       "5981                 0            0            1                1   \n",
       "5982                 1            1            1                1   \n",
       "5983                 0            0            0                0   \n",
       "5984                 1            0            1                1   \n",
       "5985                 0            0            0                0   \n",
       "\n",
       "            Contract  PaperlessBilling              PaymentMethod  \\\n",
       "0           Two year                 0    Credit card (automatic)   \n",
       "1     Month-to-month                 1    Credit card (automatic)   \n",
       "2     Month-to-month                 1  Bank transfer (automatic)   \n",
       "3     Month-to-month                 1           Electronic check   \n",
       "4     Month-to-month                 0           Electronic check   \n",
       "...              ...               ...                        ...   \n",
       "5981  Month-to-month                 1           Electronic check   \n",
       "5982        Two year                 1    Credit card (automatic)   \n",
       "5983  Month-to-month                 1           Electronic check   \n",
       "5984  Month-to-month                 1           Electronic check   \n",
       "5985        One year                 0    Credit card (automatic)   \n",
       "\n",
       "      MonthlyCharges  TotalCharges  Churn  \n",
       "0              24.10       1734.65    0.0  \n",
       "1              88.15       3973.20    0.0  \n",
       "2              74.95       2869.85    1.0  \n",
       "3              55.90        238.50    0.0  \n",
       "4              53.45        119.50    0.0  \n",
       "...              ...           ...    ...  \n",
       "5981           95.00         95.00    1.0  \n",
       "5982           91.10       2198.30    0.0  \n",
       "5983           21.15        306.05    0.0  \n",
       "5984           99.45       1200.15    1.0  \n",
       "5985           19.80        457.30    0.0  \n",
       "\n",
       "[5976 rows x 20 columns]"
      ]
     },
     "execution_count": 18,
     "metadata": {},
     "output_type": "execute_result"
    }
   ],
   "source": [
    "from sklearn.preprocessing import MinMaxScaler\n",
    "df_n = df.copy()\n",
    "min_max_scaler = MinMaxScaler()\n",
    "df_n[[\"tenure\", \"Churn\", \"PhoneService\"]] = min_max_scaler.fit_transform(df_n[[\"tenure\", \"Churn\", \"PhoneService\"]])\n",
    "df_n"
   ]
  },
  {
   "cell_type": "markdown",
   "id": "e0f6c3d7",
   "metadata": {},
   "source": [
    "#  Outliers using the IQR techinque "
   ]
  },
  {
   "cell_type": "code",
   "execution_count": 20,
   "id": "d694f92e",
   "metadata": {},
   "outputs": [
    {
     "data": {
      "text/html": [
       "<div>\n",
       "<style scoped>\n",
       "    .dataframe tbody tr th:only-of-type {\n",
       "        vertical-align: middle;\n",
       "    }\n",
       "\n",
       "    .dataframe tbody tr th {\n",
       "        vertical-align: top;\n",
       "    }\n",
       "\n",
       "    .dataframe thead th {\n",
       "        text-align: right;\n",
       "    }\n",
       "</style>\n",
       "<table border=\"1\" class=\"dataframe\">\n",
       "  <thead>\n",
       "    <tr style=\"text-align: right;\">\n",
       "      <th></th>\n",
       "      <th>SeniorCitizen</th>\n",
       "      <th>Partner</th>\n",
       "      <th>Dependents</th>\n",
       "      <th>tenure</th>\n",
       "      <th>PhoneService</th>\n",
       "      <th>MultipleLines</th>\n",
       "      <th>OnlineSecurity</th>\n",
       "      <th>OnlineBackup</th>\n",
       "      <th>DeviceProtection</th>\n",
       "      <th>TechSupport</th>\n",
       "      <th>StreamingTV</th>\n",
       "      <th>StreamingMovies</th>\n",
       "      <th>PaperlessBilling</th>\n",
       "      <th>MonthlyCharges</th>\n",
       "      <th>TotalCharges</th>\n",
       "      <th>Churn</th>\n",
       "    </tr>\n",
       "  </thead>\n",
       "  <tbody>\n",
       "    <tr>\n",
       "      <th>count</th>\n",
       "      <td>5976.000000</td>\n",
       "      <td>5976.000000</td>\n",
       "      <td>5976.000000</td>\n",
       "      <td>5976.000000</td>\n",
       "      <td>5976.000000</td>\n",
       "      <td>5976.000000</td>\n",
       "      <td>5976.000000</td>\n",
       "      <td>5976.000000</td>\n",
       "      <td>5976.000000</td>\n",
       "      <td>5976.000000</td>\n",
       "      <td>5976.000000</td>\n",
       "      <td>5976.000000</td>\n",
       "      <td>5976.000000</td>\n",
       "      <td>5976.000000</td>\n",
       "      <td>5976.000000</td>\n",
       "      <td>5976.000000</td>\n",
       "    </tr>\n",
       "    <tr>\n",
       "      <th>mean</th>\n",
       "      <td>0.161647</td>\n",
       "      <td>0.484605</td>\n",
       "      <td>0.298025</td>\n",
       "      <td>32.523092</td>\n",
       "      <td>0.901606</td>\n",
       "      <td>0.425870</td>\n",
       "      <td>0.285977</td>\n",
       "      <td>0.349230</td>\n",
       "      <td>0.343373</td>\n",
       "      <td>0.289826</td>\n",
       "      <td>0.385375</td>\n",
       "      <td>0.391232</td>\n",
       "      <td>0.589859</td>\n",
       "      <td>64.846687</td>\n",
       "      <td>2298.060617</td>\n",
       "      <td>0.265562</td>\n",
       "    </tr>\n",
       "    <tr>\n",
       "      <th>std</th>\n",
       "      <td>0.368157</td>\n",
       "      <td>0.499805</td>\n",
       "      <td>0.457429</td>\n",
       "      <td>24.500858</td>\n",
       "      <td>0.297871</td>\n",
       "      <td>0.494516</td>\n",
       "      <td>0.451916</td>\n",
       "      <td>0.476767</td>\n",
       "      <td>0.474875</td>\n",
       "      <td>0.453719</td>\n",
       "      <td>0.486724</td>\n",
       "      <td>0.488067</td>\n",
       "      <td>0.491900</td>\n",
       "      <td>30.107576</td>\n",
       "      <td>2274.127165</td>\n",
       "      <td>0.441669</td>\n",
       "    </tr>\n",
       "    <tr>\n",
       "      <th>min</th>\n",
       "      <td>0.000000</td>\n",
       "      <td>0.000000</td>\n",
       "      <td>0.000000</td>\n",
       "      <td>1.000000</td>\n",
       "      <td>0.000000</td>\n",
       "      <td>0.000000</td>\n",
       "      <td>0.000000</td>\n",
       "      <td>0.000000</td>\n",
       "      <td>0.000000</td>\n",
       "      <td>0.000000</td>\n",
       "      <td>0.000000</td>\n",
       "      <td>0.000000</td>\n",
       "      <td>0.000000</td>\n",
       "      <td>18.250000</td>\n",
       "      <td>18.800000</td>\n",
       "      <td>0.000000</td>\n",
       "    </tr>\n",
       "    <tr>\n",
       "      <th>25%</th>\n",
       "      <td>0.000000</td>\n",
       "      <td>0.000000</td>\n",
       "      <td>0.000000</td>\n",
       "      <td>9.000000</td>\n",
       "      <td>1.000000</td>\n",
       "      <td>0.000000</td>\n",
       "      <td>0.000000</td>\n",
       "      <td>0.000000</td>\n",
       "      <td>0.000000</td>\n",
       "      <td>0.000000</td>\n",
       "      <td>0.000000</td>\n",
       "      <td>0.000000</td>\n",
       "      <td>0.000000</td>\n",
       "      <td>35.750000</td>\n",
       "      <td>404.312500</td>\n",
       "      <td>0.000000</td>\n",
       "    </tr>\n",
       "    <tr>\n",
       "      <th>50%</th>\n",
       "      <td>0.000000</td>\n",
       "      <td>0.000000</td>\n",
       "      <td>0.000000</td>\n",
       "      <td>29.000000</td>\n",
       "      <td>1.000000</td>\n",
       "      <td>0.000000</td>\n",
       "      <td>0.000000</td>\n",
       "      <td>0.000000</td>\n",
       "      <td>0.000000</td>\n",
       "      <td>0.000000</td>\n",
       "      <td>0.000000</td>\n",
       "      <td>0.000000</td>\n",
       "      <td>1.000000</td>\n",
       "      <td>70.425000</td>\n",
       "      <td>1412.150000</td>\n",
       "      <td>0.000000</td>\n",
       "    </tr>\n",
       "    <tr>\n",
       "      <th>75%</th>\n",
       "      <td>0.000000</td>\n",
       "      <td>1.000000</td>\n",
       "      <td>1.000000</td>\n",
       "      <td>56.000000</td>\n",
       "      <td>1.000000</td>\n",
       "      <td>1.000000</td>\n",
       "      <td>1.000000</td>\n",
       "      <td>1.000000</td>\n",
       "      <td>1.000000</td>\n",
       "      <td>1.000000</td>\n",
       "      <td>1.000000</td>\n",
       "      <td>1.000000</td>\n",
       "      <td>1.000000</td>\n",
       "      <td>89.900000</td>\n",
       "      <td>3846.962500</td>\n",
       "      <td>1.000000</td>\n",
       "    </tr>\n",
       "    <tr>\n",
       "      <th>max</th>\n",
       "      <td>1.000000</td>\n",
       "      <td>1.000000</td>\n",
       "      <td>1.000000</td>\n",
       "      <td>72.000000</td>\n",
       "      <td>1.000000</td>\n",
       "      <td>1.000000</td>\n",
       "      <td>1.000000</td>\n",
       "      <td>1.000000</td>\n",
       "      <td>1.000000</td>\n",
       "      <td>1.000000</td>\n",
       "      <td>1.000000</td>\n",
       "      <td>1.000000</td>\n",
       "      <td>1.000000</td>\n",
       "      <td>118.750000</td>\n",
       "      <td>8684.800000</td>\n",
       "      <td>1.000000</td>\n",
       "    </tr>\n",
       "  </tbody>\n",
       "</table>\n",
       "</div>"
      ],
      "text/plain": [
       "       SeniorCitizen      Partner   Dependents       tenure  PhoneService  \\\n",
       "count    5976.000000  5976.000000  5976.000000  5976.000000   5976.000000   \n",
       "mean        0.161647     0.484605     0.298025    32.523092      0.901606   \n",
       "std         0.368157     0.499805     0.457429    24.500858      0.297871   \n",
       "min         0.000000     0.000000     0.000000     1.000000      0.000000   \n",
       "25%         0.000000     0.000000     0.000000     9.000000      1.000000   \n",
       "50%         0.000000     0.000000     0.000000    29.000000      1.000000   \n",
       "75%         0.000000     1.000000     1.000000    56.000000      1.000000   \n",
       "max         1.000000     1.000000     1.000000    72.000000      1.000000   \n",
       "\n",
       "       MultipleLines  OnlineSecurity  OnlineBackup  DeviceProtection  \\\n",
       "count    5976.000000     5976.000000   5976.000000       5976.000000   \n",
       "mean        0.425870        0.285977      0.349230          0.343373   \n",
       "std         0.494516        0.451916      0.476767          0.474875   \n",
       "min         0.000000        0.000000      0.000000          0.000000   \n",
       "25%         0.000000        0.000000      0.000000          0.000000   \n",
       "50%         0.000000        0.000000      0.000000          0.000000   \n",
       "75%         1.000000        1.000000      1.000000          1.000000   \n",
       "max         1.000000        1.000000      1.000000          1.000000   \n",
       "\n",
       "       TechSupport  StreamingTV  StreamingMovies  PaperlessBilling  \\\n",
       "count  5976.000000  5976.000000      5976.000000       5976.000000   \n",
       "mean      0.289826     0.385375         0.391232          0.589859   \n",
       "std       0.453719     0.486724         0.488067          0.491900   \n",
       "min       0.000000     0.000000         0.000000          0.000000   \n",
       "25%       0.000000     0.000000         0.000000          0.000000   \n",
       "50%       0.000000     0.000000         0.000000          1.000000   \n",
       "75%       1.000000     1.000000         1.000000          1.000000   \n",
       "max       1.000000     1.000000         1.000000          1.000000   \n",
       "\n",
       "       MonthlyCharges  TotalCharges        Churn  \n",
       "count     5976.000000   5976.000000  5976.000000  \n",
       "mean        64.846687   2298.060617     0.265562  \n",
       "std         30.107576   2274.127165     0.441669  \n",
       "min         18.250000     18.800000     0.000000  \n",
       "25%         35.750000    404.312500     0.000000  \n",
       "50%         70.425000   1412.150000     0.000000  \n",
       "75%         89.900000   3846.962500     1.000000  \n",
       "max        118.750000   8684.800000     1.000000  "
      ]
     },
     "execution_count": 20,
     "metadata": {},
     "output_type": "execute_result"
    }
   ],
   "source": [
    "df.describe()"
   ]
  },
  {
   "cell_type": "code",
   "execution_count": 31,
   "id": "d7a2fbdc",
   "metadata": {},
   "outputs": [
    {
     "data": {
      "text/plain": [
       "(9.0, 56.0)"
      ]
     },
     "execution_count": 31,
     "metadata": {},
     "output_type": "execute_result"
    }
   ],
   "source": [
    "Q1 = df.tenure.quantile(0.25)\n",
    "Q3 = df.tenure.quantile(0.75)\n",
    "Q1, Q3"
   ]
  },
  {
   "cell_type": "code",
   "execution_count": 32,
   "id": "3fd41272",
   "metadata": {},
   "outputs": [
    {
     "data": {
      "text/plain": [
       "47.0"
      ]
     },
     "execution_count": 32,
     "metadata": {},
     "output_type": "execute_result"
    }
   ],
   "source": [
    "IQR = Q3-Q1\n",
    "IQR"
   ]
  },
  {
   "cell_type": "code",
   "execution_count": 33,
   "id": "95133813",
   "metadata": {},
   "outputs": [
    {
     "data": {
      "text/plain": [
       "(-61.5, 126.5)"
      ]
     },
     "execution_count": 33,
     "metadata": {},
     "output_type": "execute_result"
    }
   ],
   "source": [
    "lower_limit = Q1 - 1.5*IQR\n",
    "upper_limit = Q3 + 1.5*IQR\n",
    "lower_limit, upper_limit"
   ]
  },
  {
   "cell_type": "markdown",
   "id": "c40a48c9",
   "metadata": {},
   "source": [
    "#  Missing values and statistics of the dataset"
   ]
  },
  {
   "cell_type": "code",
   "execution_count": 36,
   "id": "bba58f1d",
   "metadata": {},
   "outputs": [
    {
     "data": {
      "text/plain": [
       "int64      14\n",
       "object      4\n",
       "float64     2\n",
       "dtype: int64"
      ]
     },
     "execution_count": 36,
     "metadata": {},
     "output_type": "execute_result"
    }
   ],
   "source": [
    "df.dtypes.value_counts()"
   ]
  },
  {
   "cell_type": "code",
   "execution_count": 37,
   "id": "35cdb936",
   "metadata": {},
   "outputs": [
    {
     "data": {
      "text/plain": [
       "gender              0\n",
       "SeniorCitizen       0\n",
       "Partner             0\n",
       "Dependents          0\n",
       "tenure              0\n",
       "PhoneService        0\n",
       "MultipleLines       0\n",
       "InternetService     0\n",
       "OnlineSecurity      0\n",
       "OnlineBackup        0\n",
       "DeviceProtection    0\n",
       "TechSupport         0\n",
       "StreamingTV         0\n",
       "StreamingMovies     0\n",
       "Contract            0\n",
       "PaperlessBilling    0\n",
       "PaymentMethod       0\n",
       "MonthlyCharges      0\n",
       "TotalCharges        0\n",
       "Churn               0\n",
       "dtype: int64"
      ]
     },
     "execution_count": 37,
     "metadata": {},
     "output_type": "execute_result"
    }
   ],
   "source": [
    "df.isnull().sum()"
   ]
  },
  {
   "cell_type": "code",
   "execution_count": 38,
   "id": "1842d8e5",
   "metadata": {},
   "outputs": [
    {
     "data": {
      "text/plain": [
       "(5976, 20)"
      ]
     },
     "execution_count": 38,
     "metadata": {},
     "output_type": "execute_result"
    }
   ],
   "source": [
    "df.shape"
   ]
  },
  {
   "cell_type": "markdown",
   "id": "b4cf398b",
   "metadata": {},
   "source": [
    "# PCA -  dimensionality-reduction method"
   ]
  },
  {
   "cell_type": "code",
   "execution_count": 22,
   "id": "ceb358fd",
   "metadata": {},
   "outputs": [],
   "source": [
    "df=pd.get_dummies(data=df, columns=['InternetService', 'Contract', 'PaymentMethod'],drop_first=True)\n"
   ]
  },
  {
   "cell_type": "code",
   "execution_count": 24,
   "id": "2393b2f2",
   "metadata": {},
   "outputs": [
    {
     "data": {
      "text/plain": [
       "StandardScaler()"
      ]
     },
     "execution_count": 24,
     "metadata": {},
     "output_type": "execute_result"
    }
   ],
   "source": [
    "#first we use standard scaling, so that the distance between values be minimal\n",
    "scaler=StandardScaler()\n",
    "scaler.fit(df)"
   ]
  },
  {
   "cell_type": "code",
   "execution_count": 26,
   "id": "b91baf1e",
   "metadata": {},
   "outputs": [
    {
     "data": {
      "text/plain": [
       "array([[-0.43910633,  1.03127877,  1.53473721, ...,  1.89469305,\n",
       "        -0.7108373 , -0.54331258],\n",
       "       [-0.43910633, -0.96966991, -0.65157735, ...,  1.89469305,\n",
       "        -0.7108373 , -0.54331258],\n",
       "       [ 2.27735272,  1.03127877, -0.65157735, ..., -0.52778998,\n",
       "        -0.7108373 , -0.54331258],\n",
       "       ...,\n",
       "       [-0.43910633,  1.03127877,  1.53473721, ..., -0.52778998,\n",
       "         1.40679167, -0.54331258],\n",
       "       [ 2.27735272, -0.96966991, -0.65157735, ..., -0.52778998,\n",
       "         1.40679167, -0.54331258],\n",
       "       [-0.43910633, -0.96966991, -0.65157735, ...,  1.89469305,\n",
       "        -0.7108373 , -0.54331258]])"
      ]
     },
     "execution_count": 26,
     "metadata": {},
     "output_type": "execute_result"
    }
   ],
   "source": [
    "scaled_data = scaler.transform(df)\n",
    "scaled_data"
   ]
  },
  {
   "cell_type": "code",
   "execution_count": 28,
   "id": "32ba1417",
   "metadata": {},
   "outputs": [
    {
     "data": {
      "text/plain": [
       "PCA(n_components=2)"
      ]
     },
     "execution_count": 28,
     "metadata": {},
     "output_type": "execute_result"
    }
   ],
   "source": [
    "pca=PCA(n_components=2)\n",
    "pca.fit(scaled_data)"
   ]
  },
  {
   "cell_type": "code",
   "execution_count": 29,
   "id": "f2563d8f",
   "metadata": {},
   "outputs": [
    {
     "data": {
      "text/plain": [
       "(5976, 24)"
      ]
     },
     "execution_count": 29,
     "metadata": {},
     "output_type": "execute_result"
    }
   ],
   "source": [
    "scaled_data.shape"
   ]
  },
  {
   "cell_type": "code",
   "execution_count": 31,
   "id": "bbc914ef",
   "metadata": {},
   "outputs": [
    {
     "data": {
      "text/plain": [
       "(5976, 2)"
      ]
     },
     "execution_count": 31,
     "metadata": {},
     "output_type": "execute_result"
    }
   ],
   "source": [
    "x_pca=pca.transform(scaled_data)\n",
    "x_pca.shape"
   ]
  },
  {
   "cell_type": "code",
   "execution_count": null,
   "id": "447f3b3e",
   "metadata": {},
   "outputs": [],
   "source": [
    "#The difference on the dimensions, on the scaled_data we have 24 dimensions\n",
    "#after pca implementation we have 2 dimensions"
   ]
  },
  {
   "cell_type": "code",
   "execution_count": 32,
   "id": "944850b8",
   "metadata": {},
   "outputs": [
    {
     "data": {
      "text/plain": [
       "array([[-1.55832519,  3.37658301],\n",
       "       [ 1.5915212 , -0.30355515],\n",
       "       [ 0.29629057, -1.97200488],\n",
       "       ...,\n",
       "       [-2.80197497,  0.07809066],\n",
       "       [ 1.70616667, -3.77735351],\n",
       "       [-3.04916318,  1.16124596]])"
      ]
     },
     "execution_count": 32,
     "metadata": {},
     "output_type": "execute_result"
    }
   ],
   "source": [
    "x_pca"
   ]
  },
  {
   "cell_type": "markdown",
   "id": "8a986f56",
   "metadata": {},
   "source": [
    "# Decision Tree"
   ]
  },
  {
   "cell_type": "code",
   "execution_count": 56,
   "id": "f6e83b8f",
   "metadata": {},
   "outputs": [
    {
     "name": "stdout",
     "output_type": "stream",
     "text": [
      "<class 'pandas.core.frame.DataFrame'>\n",
      "Int64Index: 5976 entries, 0 to 5985\n",
      "Data columns (total 24 columns):\n",
      " #   Column                                 Non-Null Count  Dtype  \n",
      "---  ------                                 --------------  -----  \n",
      " 0   SeniorCitizen                          5976 non-null   int64  \n",
      " 1   Partner                                5976 non-null   int64  \n",
      " 2   Dependents                             5976 non-null   int64  \n",
      " 3   tenure                                 5976 non-null   int64  \n",
      " 4   PhoneService                           5976 non-null   int64  \n",
      " 5   MultipleLines                          5976 non-null   int64  \n",
      " 6   OnlineSecurity                         5976 non-null   int64  \n",
      " 7   OnlineBackup                           5976 non-null   int64  \n",
      " 8   DeviceProtection                       5976 non-null   int64  \n",
      " 9   TechSupport                            5976 non-null   int64  \n",
      " 10  StreamingTV                            5976 non-null   int64  \n",
      " 11  StreamingMovies                        5976 non-null   int64  \n",
      " 12  PaperlessBilling                       5976 non-null   int64  \n",
      " 13  MonthlyCharges                         5976 non-null   float64\n",
      " 14  TotalCharges                           5976 non-null   float64\n",
      " 15  Churn                                  5976 non-null   int64  \n",
      " 16  gender_Male                            5976 non-null   uint8  \n",
      " 17  InternetService_Fiber optic            5976 non-null   uint8  \n",
      " 18  InternetService_No                     5976 non-null   uint8  \n",
      " 19  Contract_One year                      5976 non-null   uint8  \n",
      " 20  Contract_Two year                      5976 non-null   uint8  \n",
      " 21  PaymentMethod_Credit card (automatic)  5976 non-null   uint8  \n",
      " 22  PaymentMethod_Electronic check         5976 non-null   uint8  \n",
      " 23  PaymentMethod_Mailed check             5976 non-null   uint8  \n",
      "dtypes: float64(2), int64(14), uint8(8)\n",
      "memory usage: 969.4 KB\n"
     ]
    }
   ],
   "source": [
    "df.info()"
   ]
  },
  {
   "cell_type": "code",
   "execution_count": 33,
   "id": "21a51306",
   "metadata": {},
   "outputs": [],
   "source": [
    "x = df.drop(['Churn'], axis=1)\n",
    "y = df['Churn']"
   ]
  },
  {
   "cell_type": "code",
   "execution_count": 34,
   "id": "4a0f69ac",
   "metadata": {},
   "outputs": [],
   "source": [
    "x_train, x_test, y_train, y_test = train_test_split(x, y, test_size=0.2, random_state=42)\n"
   ]
  },
  {
   "cell_type": "code",
   "execution_count": 54,
   "id": "90509dfa",
   "metadata": {},
   "outputs": [
    {
     "name": "stdout",
     "output_type": "stream",
     "text": [
      "              precision    recall  f1-score   support\n",
      "\n",
      "           0       0.82      0.81      0.81       884\n",
      "           1       0.48      0.49      0.48       312\n",
      "\n",
      "    accuracy                           0.73      1196\n",
      "   macro avg       0.65      0.65      0.65      1196\n",
      "weighted avg       0.73      0.73      0.73      1196\n",
      "\n"
     ]
    },
    {
     "data": {
      "text/plain": [
       "<sklearn.metrics._plot.roc_curve.RocCurveDisplay at 0x17ba7836f40>"
      ]
     },
     "execution_count": 54,
     "metadata": {},
     "output_type": "execute_result"
    },
    {
     "data": {
      "image/png": "[encoded data removed]",
      "text/plain": [
       "<Figure size 432x288 with 1 Axes>"
      ]
     },
     "metadata": {
      "needs_background": "light"
     },
     "output_type": "display_data"
    }
   ],
   "source": [
    "from sklearn.tree import DecisionTreeClassifier\n",
    "from sklearn.metrics import classification_report\n",
    "dt = DecisionTreeClassifier(criterion='entropy')\n",
    "dt.fit(x_train, y_train)\n",
    "prediction_dt = dt.predict(x_test)\n",
    "print(classification_report(y_test, prediction_dt))\n",
    "metrics.plot_roc_curve(dt, x_test, y_test)"
   ]
  },
  {
   "cell_type": "markdown",
   "id": "d0ad4c5a",
   "metadata": {},
   "source": [
    "# Naive Bayes - Classificator"
   ]
  },
  {
   "cell_type": "code",
   "execution_count": 58,
   "id": "1e0ad474",
   "metadata": {},
   "outputs": [
    {
     "name": "stdout",
     "output_type": "stream",
     "text": [
      "<class 'pandas.core.frame.DataFrame'>\n",
      "Int64Index: 5976 entries, 0 to 5985\n",
      "Data columns (total 24 columns):\n",
      " #   Column                                 Non-Null Count  Dtype  \n",
      "---  ------                                 --------------  -----  \n",
      " 0   SeniorCitizen                          5976 non-null   int64  \n",
      " 1   Partner                                5976 non-null   int64  \n",
      " 2   Dependents                             5976 non-null   int64  \n",
      " 3   tenure                                 5976 non-null   int64  \n",
      " 4   PhoneService                           5976 non-null   int64  \n",
      " 5   MultipleLines                          5976 non-null   int64  \n",
      " 6   OnlineSecurity                         5976 non-null   int64  \n",
      " 7   OnlineBackup                           5976 non-null   int64  \n",
      " 8   DeviceProtection                       5976 non-null   int64  \n",
      " 9   TechSupport                            5976 non-null   int64  \n",
      " 10  StreamingTV                            5976 non-null   int64  \n",
      " 11  StreamingMovies                        5976 non-null   int64  \n",
      " 12  PaperlessBilling                       5976 non-null   int64  \n",
      " 13  MonthlyCharges                         5976 non-null   float64\n",
      " 14  TotalCharges                           5976 non-null   float64\n",
      " 15  Churn                                  5976 non-null   int64  \n",
      " 16  gender_Male                            5976 non-null   uint8  \n",
      " 17  InternetService_Fiber optic            5976 non-null   uint8  \n",
      " 18  InternetService_No                     5976 non-null   uint8  \n",
      " 19  Contract_One year                      5976 non-null   uint8  \n",
      " 20  Contract_Two year                      5976 non-null   uint8  \n",
      " 21  PaymentMethod_Credit card (automatic)  5976 non-null   uint8  \n",
      " 22  PaymentMethod_Electronic check         5976 non-null   uint8  \n",
      " 23  PaymentMethod_Mailed check             5976 non-null   uint8  \n",
      "dtypes: float64(2), int64(14), uint8(8)\n",
      "memory usage: 969.4 KB\n"
     ]
    }
   ],
   "source": [
    "df.info()"
   ]
  },
  {
   "cell_type": "code",
   "execution_count": 67,
   "id": "3f3482fd",
   "metadata": {},
   "outputs": [],
   "source": [
    "trainX,testX,trainY,testY = train_test_split(df[[\"gender_Male\", \"Contract_One year\", \"PaymentMethod_Credit card (automatic)\", \"tenure\"]], df[[\"PhoneService\"]])"
   ]
  },
  {
   "cell_type": "code",
   "execution_count": 68,
   "id": "4cb2f51b",
   "metadata": {},
   "outputs": [
    {
     "data": {
      "text/plain": [
       "GaussianNB()"
      ]
     },
     "execution_count": 68,
     "metadata": {},
     "output_type": "execute_result"
    }
   ],
   "source": [
    "from sklearn.naive_bayes import GaussianNB\n",
    "\n",
    "model = GaussianNB()\n",
    "model.fit(trainX, trainY.squeeze())"
   ]
  },
  {
   "cell_type": "code",
   "execution_count": 72,
   "id": "70a315a4",
   "metadata": {},
   "outputs": [],
   "source": [
    "import seaborn as sn\n",
    "\n",
    "loo = LeaveOneOut()\n",
    "\n",
    "X = df[[\"gender_Male\", \"Contract_One year\", \"PaymentMethod_Credit card (automatic)\", \"tenure\"]].to_numpy()\n",
    "y = df[[\"PhoneService\"]].to_numpy()\n",
    "\n",
    "predicted = []\n",
    "actual = []\n",
    "\n",
    "for train_index, test_index in loo.split(X):\n",
    "    X_train, X_test = X[train_index], X[test_index]\n",
    "    y_train, y_test = y[train_index], y[test_index]\n",
    "    \n",
    "    model.fit(trainX,trainY.squeeze())\n",
    "    predicted_value = model.predict(X_test)\n",
    "    predicted.append(predicted_value[0])\n",
    "    actual.append(y_test[0][0])\n",
    "    \n",
    "\n",
    "    \n",
    "results = pd.DataFrame({\"actual\":actual,\"predicted\":predicted})\n",
    "conf_matrix = pd.crosstab(results['actual'], results['predicted'], rownames=['Actual'], colnames=['Predicted'])\n"
   ]
  },
  {
   "cell_type": "code",
   "execution_count": 73,
   "id": "b0d5e223",
   "metadata": {},
   "outputs": [
    {
     "name": "stdout",
     "output_type": "stream",
     "text": [
      "accuracy: 0.9016064257028112\n",
      "precision: 0.9016064257028112\n",
      "recall: 1.0\n",
      "f1: 0.9482576557550157\n"
     ]
    }
   ],
   "source": [
    "print(f\"accuracy: {accuracy_score(actual, predicted)}\\nprecision: {precision_score(actual, predicted)}\\nrecall: {recall_score(actual, predicted)}\\nf1: {f1_score(actual, predicted)}\")"
   ]
  },
  {
   "cell_type": "markdown",
   "id": "83dd5f7d",
   "metadata": {},
   "source": [
    "# KNN"
   ]
  },
  {
   "cell_type": "code",
   "execution_count": 79,
   "id": "fc16881c",
   "metadata": {},
   "outputs": [],
   "source": [
    "from sklearn.preprocessing import StandardScaler\n",
    "from sklearn.neighbors import KNeighborsClassifier\n",
    "from sklearn.metrics import classification_report, confusion_matrix, accuracy_score\n"
   ]
  },
  {
   "cell_type": "code",
   "execution_count": 107,
   "id": "e6d02f54",
   "metadata": {},
   "outputs": [],
   "source": [
    "X=df.iloc[:,[13,16]]\n",
    "X=X.values\n",
    "Y=df.iloc[:,12].values\n",
    "Y=pd.get_dummies(Y)"
   ]
  },
  {
   "cell_type": "code",
   "execution_count": 108,
   "id": "44f5d25d",
   "metadata": {},
   "outputs": [],
   "source": [
    "X_train, X_test, Y_train, Y_test = train_test_split(X,Y, test_size = .20, random_state=40)"
   ]
  },
  {
   "cell_type": "code",
   "execution_count": 109,
   "id": "df85d272",
   "metadata": {},
   "outputs": [],
   "source": [
    "KNN = KNeighborsClassifier(\n",
    "n_neighbors=5,\n",
    "weights='uniform',\n",
    "algorithm='kd_tree',\n",
    "leaf_size=30,\n",
    "p=2,\n",
    "metric='minkowski',\n",
    "n_jobs=-1)"
   ]
  },
  {
   "cell_type": "code",
   "execution_count": 110,
   "id": "81f00fb5",
   "metadata": {},
   "outputs": [
    {
     "data": {
      "text/plain": [
       "KNeighborsClassifier(algorithm='kd_tree', n_jobs=-1)"
      ]
     },
     "execution_count": 110,
     "metadata": {},
     "output_type": "execute_result"
    }
   ],
   "source": [
    "KNN.fit(X_train,Y_train)"
   ]
  },
  {
   "cell_type": "code",
   "execution_count": 111,
   "id": "0d9de2d9",
   "metadata": {},
   "outputs": [
    {
     "name": "stdout",
     "output_type": "stream",
     "text": [
      "<class 'pandas.core.frame.DataFrame'>\n",
      "Int64Index: 5976 entries, 0 to 5985\n",
      "Data columns (total 24 columns):\n",
      " #   Column                                 Non-Null Count  Dtype  \n",
      "---  ------                                 --------------  -----  \n",
      " 0   SeniorCitizen                          5976 non-null   int64  \n",
      " 1   Partner                                5976 non-null   int64  \n",
      " 2   Dependents                             5976 non-null   int64  \n",
      " 3   tenure                                 5976 non-null   int64  \n",
      " 4   PhoneService                           5976 non-null   int64  \n",
      " 5   MultipleLines                          5976 non-null   int64  \n",
      " 6   OnlineSecurity                         5976 non-null   int64  \n",
      " 7   OnlineBackup                           5976 non-null   int64  \n",
      " 8   DeviceProtection                       5976 non-null   int64  \n",
      " 9   TechSupport                            5976 non-null   int64  \n",
      " 10  StreamingTV                            5976 non-null   int64  \n",
      " 11  StreamingMovies                        5976 non-null   int64  \n",
      " 12  PaperlessBilling                       5976 non-null   int64  \n",
      " 13  MonthlyCharges                         5976 non-null   float64\n",
      " 14  TotalCharges                           5976 non-null   float64\n",
      " 15  Churn                                  5976 non-null   int64  \n",
      " 16  gender_Male                            5976 non-null   uint8  \n",
      " 17  InternetService_Fiber optic            5976 non-null   uint8  \n",
      " 18  InternetService_No                     5976 non-null   uint8  \n",
      " 19  Contract_One year                      5976 non-null   uint8  \n",
      " 20  Contract_Two year                      5976 non-null   uint8  \n",
      " 21  PaymentMethod_Credit card (automatic)  5976 non-null   uint8  \n",
      " 22  PaymentMethod_Electronic check         5976 non-null   uint8  \n",
      " 23  PaymentMethod_Mailed check             5976 non-null   uint8  \n",
      "dtypes: float64(2), int64(14), uint8(8)\n",
      "memory usage: 969.4 KB\n"
     ]
    }
   ],
   "source": [
    "df.info()"
   ]
  },
  {
   "cell_type": "code",
   "execution_count": 112,
   "id": "cc068b20",
   "metadata": {},
   "outputs": [],
   "source": [
    "Y_pred = KNN.predict(X_test)"
   ]
  },
  {
   "cell_type": "code",
   "execution_count": 113,
   "id": "183b31cc",
   "metadata": {},
   "outputs": [
    {
     "name": "stdout",
     "output_type": "stream",
     "text": [
      "[[234 287]\n",
      " [183 492]]\n",
      "\n",
      "\n",
      "              precision    recall  f1-score   support\n",
      "\n",
      "           0       0.56      0.45      0.50       521\n",
      "           1       0.63      0.73      0.68       675\n",
      "\n",
      "   micro avg       0.61      0.61      0.61      1196\n",
      "   macro avg       0.60      0.59      0.59      1196\n",
      "weighted avg       0.60      0.61      0.60      1196\n",
      " samples avg       0.61      0.61      0.61      1196\n",
      "\n"
     ]
    }
   ],
   "source": [
    "print(confusion_matrix(Y_test.values.argmax(axis=1), Y_pred.argmax(axis=1)))\n",
    "print(\"\\n\")\n",
    "print(classification_report(Y_test, Y_pred))"
   ]
  },
  {
   "cell_type": "code",
   "execution_count": 114,
   "id": "b77504b5",
   "metadata": {},
   "outputs": [
    {
     "name": "stdout",
     "output_type": "stream",
     "text": [
      "Cross val:  [0.57083333 0.62761506 0.61506276 0.62343096 0.67782427]\n",
      "Cross val:  0.6229532775453277\n"
     ]
    }
   ],
   "source": [
    "from sklearn.model_selection import cross_val_score\n",
    "\n",
    "print('Cross val: ', cross_val_score(KNN, Y_test,Y_pred))\n",
    "print('Cross val: ', np.mean(cross_val_score(KNN, Y_test,Y_pred)))"
   ]
  },
  {
   "cell_type": "code",
   "execution_count": 115,
   "id": "fa69b121",
   "metadata": {},
   "outputs": [
    {
     "data": {
      "text/plain": [
       "Text(0, 0.5, 'Mean Error')"
      ]
     },
     "execution_count": 115,
     "metadata": {},
     "output_type": "execute_result"
    },
    {
     "data": {
      "image/png": "[encoded data removed]",
      "text/plain": [
       "<Figure size 864x432 with 1 Axes>"
      ]
     },
     "metadata": {
      "needs_background": "light"
     },
     "output_type": "display_data"
    }
   ],
   "source": [
    "error = []\n",
    "\n",
    "# Calculating error for K values between 1 and 40\n",
    "for i in range(1, 30):\n",
    "    knn = KNeighborsClassifier(n_neighbors=i)\n",
    "    knn.fit(X_train, Y_train)\n",
    "    pred_i = knn.predict(X_test)\n",
    "    error.append(np.mean(pred_i != Y_test))\n",
    "    \n",
    "    \n",
    "plt.figure(figsize=(12, 6))\n",
    "plt.plot(range(1, 30), error, color='red', linestyle='dashed', marker='o',\n",
    "         markerfacecolor='blue', markersize=10)\n",
    "plt.title('Error Rate K Value')\n",
    "plt.xlabel('K Value')\n",
    "plt.ylabel('Mean Error')"
   ]
  },
  {
   "cell_type": "markdown",
   "id": "7f8231a8",
   "metadata": {},
   "source": [
    "# Linear Regression, Ridge"
   ]
  },
  {
   "cell_type": "code",
   "execution_count": 124,
   "id": "4ca410bc",
   "metadata": {},
   "outputs": [
    {
     "data": {
      "text/plain": [
       "LinearRegression()"
      ]
     },
     "execution_count": 124,
     "metadata": {},
     "output_type": "execute_result"
    }
   ],
   "source": [
    "from sklearn.linear_model import LinearRegression\n",
    "\n",
    "\n",
    "lm = LinearRegression()\n",
    "lm.fit(X_train, Y_train)\n"
   ]
  },
  {
   "cell_type": "code",
   "execution_count": 127,
   "id": "07a9ea94",
   "metadata": {},
   "outputs": [
    {
     "data": {
      "text/plain": [
       "Ridge(alpha=50, max_iter=100, tol=0.1)"
      ]
     },
     "execution_count": 127,
     "metadata": {},
     "output_type": "execute_result"
    }
   ],
   "source": [
    "from sklearn.linear_model import Ridge\n",
    "\n",
    "ridge_reg = Ridge(alpha=50, max_iter=100, tol=0.1)\n",
    "\n",
    "ridge_reg.fit(X_train, Y_train)"
   ]
  },
  {
   "cell_type": "code",
   "execution_count": 129,
   "id": "1b37f1f3",
   "metadata": {},
   "outputs": [
    {
     "data": {
      "text/plain": [
       "0.1261668574388567"
      ]
     },
     "execution_count": 129,
     "metadata": {},
     "output_type": "execute_result"
    }
   ],
   "source": [
    "ridge_reg.score(X_test, Y_test)"
   ]
  },
  {
   "cell_type": "markdown",
   "id": "b5189d10",
   "metadata": {},
   "source": [
    "# Logistic Regression"
   ]
  },
  {
   "cell_type": "code",
   "execution_count": 133,
   "id": "9b00c266",
   "metadata": {},
   "outputs": [
    {
     "name": "stdout",
     "output_type": "stream",
     "text": [
      "<class 'pandas.core.frame.DataFrame'>\n",
      "Int64Index: 5976 entries, 0 to 5985\n",
      "Data columns (total 24 columns):\n",
      " #   Column                                 Non-Null Count  Dtype  \n",
      "---  ------                                 --------------  -----  \n",
      " 0   SeniorCitizen                          5976 non-null   int64  \n",
      " 1   Partner                                5976 non-null   int64  \n",
      " 2   Dependents                             5976 non-null   int64  \n",
      " 3   tenure                                 5976 non-null   int64  \n",
      " 4   PhoneService                           5976 non-null   int64  \n",
      " 5   MultipleLines                          5976 non-null   int64  \n",
      " 6   OnlineSecurity                         5976 non-null   int64  \n",
      " 7   OnlineBackup                           5976 non-null   int64  \n",
      " 8   DeviceProtection                       5976 non-null   int64  \n",
      " 9   TechSupport                            5976 non-null   int64  \n",
      " 10  StreamingTV                            5976 non-null   int64  \n",
      " 11  StreamingMovies                        5976 non-null   int64  \n",
      " 12  PaperlessBilling                       5976 non-null   int64  \n",
      " 13  MonthlyCharges                         5976 non-null   float64\n",
      " 14  TotalCharges                           5976 non-null   float64\n",
      " 15  Churn                                  5976 non-null   int64  \n",
      " 16  gender_Male                            5976 non-null   uint8  \n",
      " 17  InternetService_Fiber optic            5976 non-null   uint8  \n",
      " 18  InternetService_No                     5976 non-null   uint8  \n",
      " 19  Contract_One year                      5976 non-null   uint8  \n",
      " 20  Contract_Two year                      5976 non-null   uint8  \n",
      " 21  PaymentMethod_Credit card (automatic)  5976 non-null   uint8  \n",
      " 22  PaymentMethod_Electronic check         5976 non-null   uint8  \n",
      " 23  PaymentMethod_Mailed check             5976 non-null   uint8  \n",
      "dtypes: float64(2), int64(14), uint8(8)\n",
      "memory usage: 969.4 KB\n"
     ]
    }
   ],
   "source": [
    "df.info()"
   ]
  },
  {
   "cell_type": "code",
   "execution_count": 142,
   "id": "003a4f73",
   "metadata": {},
   "outputs": [],
   "source": [
    "X=df.drop(['Churn'],axis=1)\n",
    "y=df['Churn']"
   ]
  },
  {
   "cell_type": "code",
   "execution_count": 143,
   "id": "5d883eab",
   "metadata": {},
   "outputs": [],
   "source": [
    "from sklearn.linear_model import LogisticRegression\n",
    "\n",
    "logreg = LogisticRegression()\n"
   ]
  },
  {
   "cell_type": "code",
   "execution_count": 144,
   "id": "e6118d9e",
   "metadata": {},
   "outputs": [],
   "source": [
    "X_train, X_test, y_train, y_test = train_test_split(X, y, test_size=0.25, stratify=y)\n"
   ]
  },
  {
   "cell_type": "code",
   "execution_count": 145,
   "id": "ecdd1979",
   "metadata": {},
   "outputs": [
    {
     "data": {
      "text/plain": [
       "LogisticRegression()"
      ]
     },
     "execution_count": 145,
     "metadata": {},
     "output_type": "execute_result"
    }
   ],
   "source": [
    "logreg.fit(X_train, y_train)\n"
   ]
  },
  {
   "cell_type": "code",
   "execution_count": 146,
   "id": "2ff684d0",
   "metadata": {},
   "outputs": [],
   "source": [
    "predictions = logreg.predict(X_test)\n"
   ]
  },
  {
   "cell_type": "code",
   "execution_count": 147,
   "id": "4c32f41c",
   "metadata": {},
   "outputs": [
    {
     "name": "stdout",
     "output_type": "stream",
     "text": [
      "              precision    recall  f1-score   support\n",
      "\n",
      "           0       0.84      0.90      0.87      1097\n",
      "           1       0.64      0.51      0.57       397\n",
      "\n",
      "    accuracy                           0.79      1494\n",
      "   macro avg       0.74      0.70      0.72      1494\n",
      "weighted avg       0.78      0.79      0.79      1494\n",
      "\n",
      "\n",
      "[[984 113]\n",
      " [194 203]]\n"
     ]
    }
   ],
   "source": [
    "from sklearn.metrics import classification_report, confusion_matrix\n",
    "\n",
    "print(classification_report(y_test, predictions))\n",
    "print()\n",
    "print(confusion_matrix(y_test, predictions))"
   ]
  },
  {
   "cell_type": "code",
   "execution_count": 149,
   "id": "3387e8ad",
   "metadata": {},
   "outputs": [
    {
     "name": "stdout",
     "output_type": "stream",
     "text": [
      "Churn No was 73.44377510040161 % of the data\n",
      "Churn Yes was 26.556224899598398 % of the data\n"
     ]
    }
   ],
   "source": [
    "print(\"Churn No was {} % of the data\".format((df['Churn'].value_counts()[0]/len(df) * 100)))\n",
    "print(\"Churn Yes was {} % of the data\".format((df['Churn'].value_counts()[1]/len(df) * 100)))"
   ]
  },
  {
   "cell_type": "code",
   "execution_count": 152,
   "id": "f70493f1",
   "metadata": {},
   "outputs": [
    {
     "name": "stdout",
     "output_type": "stream",
     "text": [
      "<class 'pandas.core.frame.DataFrame'>\n",
      "Int64Index: 5976 entries, 0 to 5985\n",
      "Data columns (total 24 columns):\n",
      " #   Column                                 Non-Null Count  Dtype  \n",
      "---  ------                                 --------------  -----  \n",
      " 0   SeniorCitizen                          5976 non-null   int64  \n",
      " 1   Partner                                5976 non-null   int64  \n",
      " 2   Dependents                             5976 non-null   int64  \n",
      " 3   tenure                                 5976 non-null   int64  \n",
      " 4   PhoneService                           5976 non-null   int64  \n",
      " 5   MultipleLines                          5976 non-null   int64  \n",
      " 6   OnlineSecurity                         5976 non-null   int64  \n",
      " 7   OnlineBackup                           5976 non-null   int64  \n",
      " 8   DeviceProtection                       5976 non-null   int64  \n",
      " 9   TechSupport                            5976 non-null   int64  \n",
      " 10  StreamingTV                            5976 non-null   int64  \n",
      " 11  StreamingMovies                        5976 non-null   int64  \n",
      " 12  PaperlessBilling                       5976 non-null   int64  \n",
      " 13  MonthlyCharges                         5976 non-null   float64\n",
      " 14  TotalCharges                           5976 non-null   float64\n",
      " 15  Churn                                  5976 non-null   int64  \n",
      " 16  gender_Male                            5976 non-null   uint8  \n",
      " 17  InternetService_Fiber optic            5976 non-null   uint8  \n",
      " 18  InternetService_No                     5976 non-null   uint8  \n",
      " 19  Contract_One year                      5976 non-null   uint8  \n",
      " 20  Contract_Two year                      5976 non-null   uint8  \n",
      " 21  PaymentMethod_Credit card (automatic)  5976 non-null   uint8  \n",
      " 22  PaymentMethod_Electronic check         5976 non-null   uint8  \n",
      " 23  PaymentMethod_Mailed check             5976 non-null   uint8  \n",
      "dtypes: float64(2), int64(14), uint8(8)\n",
      "memory usage: 969.4 KB\n"
     ]
    }
   ],
   "source": [
    "df.info()"
   ]
  },
  {
   "cell_type": "code",
   "execution_count": 154,
   "id": "effed834",
   "metadata": {},
   "outputs": [],
   "source": [
    "x=df.iloc[:,19].values  \n",
    "y=df.iloc[:,13].values "
   ]
  },
  {
   "cell_type": "code",
   "execution_count": 155,
   "id": "29be9f53",
   "metadata": {},
   "outputs": [
    {
     "data": {
      "text/plain": [
       "<seaborn.axisgrid.JointGrid at 0x17bab90fa60>"
      ]
     },
     "execution_count": 155,
     "metadata": {},
     "output_type": "execute_result"
    },
    {
     "data": {
      "image/png": "[encoded data removed]",
      "text/plain": [
       "<Figure size 432x432 with 3 Axes>"
      ]
     },
     "metadata": {
      "needs_background": "light"
     },
     "output_type": "display_data"
    }
   ],
   "source": [
    "sns.jointplot(x=x, y=y, data=df, kind='scatter')"
   ]
  },
  {
   "cell_type": "code",
   "execution_count": 157,
   "id": "11c19d4c",
   "metadata": {},
   "outputs": [],
   "source": [
    "from sklearn.cluster import KMeans, AgglomerativeClustering, DBSCAN\n",
    "from scipy.cluster.hierarchy import dendrogram, linkage\n",
    "from sklearn.preprocessing import OneHotEncoder, LabelEncoder\n",
    "from sklearn.metrics import silhouette_score\n",
    "\n",
    "\n",
    "kmeans = KMeans(\n",
    "    n_clusters=3, init='random',\n",
    "    n_init=1, max_iter=4, \n",
    "    tol=1e-04, random_state=2\n",
    ")"
   ]
  },
  {
   "cell_type": "code",
   "execution_count": 159,
   "id": "108929e1",
   "metadata": {},
   "outputs": [
    {
     "name": "stderr",
     "output_type": "stream",
     "text": [
      "D:\\Anaconda\\lib\\site-packages\\sklearn\\cluster\\_kmeans.py:1077: ConvergenceWarning: Number of distinct clusters (2) found smaller than n_clusters (3). Possibly due to duplicate points in X.\n",
      "  return self.fit(X, sample_weight=sample_weight).labels_\n"
     ]
    },
    {
     "data": {
      "text/plain": [
       "array([2, 0, 0, ..., 2, 2, 2])"
      ]
     },
     "execution_count": 159,
     "metadata": {},
     "output_type": "execute_result"
    }
   ],
   "source": [
    "x=df.iloc[:,16].values.reshape(-1, 1) \n",
    "y_km = kmeans.fit_predict(x)\n",
    "x=df.iloc[:,16]\n",
    "y_km"
   ]
  },
  {
   "cell_type": "code",
   "execution_count": 160,
   "id": "29b6291f",
   "metadata": {},
   "outputs": [],
   "source": [
    "def k_means(df, n_clusters):\n",
    "    k_means = KMeans(n_clusters=n_clusters, max_iter=20, random_state=1)\n",
    "    k_means.fit(df)\n",
    "    labels = k_means.labels_\n",
    "    centroids = k_means.cluster_centers_\n",
    "    pd.DataFrame(centroids)\n",
    "    \n",
    "    sns.scatterplot(x=x, y=y, hue=labels)\n",
    "    sns.scatterplot(x=centroids[:,2], y=centroids[:,1], marker=\"*\", color=\"g\", s=400)\n",
    "    plt.show()"
   ]
  },
  {
   "cell_type": "code",
   "execution_count": 162,
   "id": "9eb3f011",
   "metadata": {},
   "outputs": [
    {
     "data": {
      "image/png": "[encoded data removed]",
      "text/plain": [
       "<Figure size 432x288 with 1 Axes>"
      ]
     },
     "metadata": {
      "needs_background": "light"
     },
     "output_type": "display_data"
    }
   ],
   "source": [
    "k_means(df, 3)"
   ]
  },
  {
   "cell_type": "code",
   "execution_count": 163,
   "id": "dcd64c51",
   "metadata": {},
   "outputs": [
    {
     "data": {
      "image/png": "[encoded data removed]",
      "text/plain": [
       "<Figure size 432x288 with 1 Axes>"
      ]
     },
     "metadata": {
      "needs_background": "light"
     },
     "output_type": "display_data"
    }
   ],
   "source": [
    "numClusters = 7\n",
    "SSE = []\n",
    "silhouette_coefficients = []\n",
    "for k in range(1, numClusters):\n",
    "    k_means = KMeans(n_clusters=k)\n",
    "    k_means.fit(df)\n",
    "    SSE.append(k_means.inertia_)\n",
    "    if k<=1:\n",
    "        continue\n",
    "    score = silhouette_score(df, k_means.labels_)\n",
    "    silhouette_coefficients.append(score)\n",
    "\n",
    "plt.plot(range(1, numClusters), SSE);\n",
    "plt.xlabel('Number of Clusters');\n",
    "plt.ylabel('SSE');"
   ]
  },
  {
   "cell_type": "code",
   "execution_count": 164,
   "id": "52fc79cf",
   "metadata": {},
   "outputs": [
    {
     "data": {
      "image/png": "[encoded data removed]",
      "text/plain": [
       "<Figure size 432x288 with 1 Axes>"
      ]
     },
     "metadata": {
      "needs_background": "light"
     },
     "output_type": "display_data"
    }
   ],
   "source": [
    "ac = AgglomerativeClustering(n_clusters=2).fit(df)\n",
    "\n",
    "sns.scatterplot(x=x, y=y, hue=ac.labels_)\n",
    "plt.show()"
   ]
  },
  {
   "cell_type": "code",
   "execution_count": 165,
   "id": "da3f6c69",
   "metadata": {},
   "outputs": [
    {
     "data": {
      "image/png": "[encoded data removed]",
      "text/plain": [
       "<Figure size 1800x720 with 1 Axes>"
      ]
     },
     "metadata": {
      "needs_background": "light"
     },
     "output_type": "display_data"
    },
    {
     "data": {
      "image/png": "[encoded data removed]",
      "text/plain": [
       "<Figure size 1800x720 with 1 Axes>"
      ]
     },
     "metadata": {
      "needs_background": "light"
     },
     "output_type": "display_data"
    },
    {
     "data": {
      "image/png": "[encoded data removed]",
      "text/plain": [
       "<Figure size 1800x720 with 1 Axes>"
      ]
     },
     "metadata": {
      "needs_background": "light"
     },
     "output_type": "display_data"
    },
    {
     "data": {
      "image/png": "[encoded data removed]",
      "text/plain": [
       "<Figure size 1800x720 with 1 Axes>"
      ]
     },
     "metadata": {
      "needs_background": "light"
     },
     "output_type": "display_data"
    },
    {
     "data": {
      "image/png": "[encoded data removed]",
      "text/plain": [
       "<Figure size 1800x720 with 1 Axes>"
      ]
     },
     "metadata": {
      "needs_background": "light"
     },
     "output_type": "display_data"
    }
   ],
   "source": [
    "linkage_types = ['ward', 'complete', 'average', 'single']\n",
    "\n",
    "for link_type in linkage_types:\n",
    "    Z = linkage(df[:3], link_type)\n",
    "\n",
    "    plt.figure(figsize=(25, 10))\n",
    "    plt.title('Hierarchical Clustering Dendrogram')\n",
    "    plt.xlabel('sample index')\n",
    "    plt.ylabel('distance')\n",
    "\n",
    "    dendrogram(Z, leaf_rotation=90., leaf_font_size=8.);\n",
    "    plt.show();\n",
    "\n",
    "plt.figure(figsize=(25, 10))\n",
    "plt.title('Hierarchical Clustering Dendrogram')\n",
    "plt.xlabel('sample index')\n",
    "plt.ylabel('distance')\n",
    "dendrogram(Z, leaf_rotation=90., leaf_font_size=8., truncate_mode='lastp');"
   ]
  },
  {
   "cell_type": "code",
   "execution_count": 166,
   "id": "88af0d7a",
   "metadata": {},
   "outputs": [
    {
     "data": {
      "image/png": "[encoded data removed]",
      "text/plain": [
       "<Figure size 432x288 with 1 Axes>"
      ]
     },
     "metadata": {
      "needs_background": "light"
     },
     "output_type": "display_data"
    }
   ],
   "source": [
    "db = DBSCAN(eps=0.4, min_samples=1).fit(df)\n",
    "sns.scatterplot(x=x, y=y, hue=db.labels_)\n",
    "plt.show()"
   ]
  },
  {
   "cell_type": "markdown",
   "id": "f5765648",
   "metadata": {},
   "source": [
    "# I will be using Random Forest Classifier"
   ]
  },
  {
   "cell_type": "code",
   "execution_count": 43,
   "id": "028fd117",
   "metadata": {},
   "outputs": [
    {
     "name": "stdout",
     "output_type": "stream",
     "text": [
      "<class 'pandas.core.frame.DataFrame'>\n",
      "Int64Index: 5976 entries, 0 to 5985\n",
      "Data columns (total 20 columns):\n",
      " #   Column            Non-Null Count  Dtype  \n",
      "---  ------            --------------  -----  \n",
      " 0   gender            5976 non-null   object \n",
      " 1   SeniorCitizen     5976 non-null   int64  \n",
      " 2   Partner           5976 non-null   int64  \n",
      " 3   Dependents        5976 non-null   int64  \n",
      " 4   tenure            5976 non-null   int64  \n",
      " 5   PhoneService      5976 non-null   int64  \n",
      " 6   MultipleLines     5976 non-null   int64  \n",
      " 7   InternetService   5976 non-null   object \n",
      " 8   OnlineSecurity    5976 non-null   int64  \n",
      " 9   OnlineBackup      5976 non-null   int64  \n",
      " 10  DeviceProtection  5976 non-null   int64  \n",
      " 11  TechSupport       5976 non-null   int64  \n",
      " 12  StreamingTV       5976 non-null   int64  \n",
      " 13  StreamingMovies   5976 non-null   int64  \n",
      " 14  Contract          5976 non-null   object \n",
      " 15  PaperlessBilling  5976 non-null   int64  \n",
      " 16  PaymentMethod     5976 non-null   object \n",
      " 17  MonthlyCharges    5976 non-null   float64\n",
      " 18  TotalCharges      5976 non-null   float64\n",
      " 19  Churn             5976 non-null   int64  \n",
      "dtypes: float64(2), int64(14), object(4)\n",
      "memory usage: 1.1+ MB\n"
     ]
    }
   ],
   "source": [
    "df.info()"
   ]
  },
  {
   "cell_type": "code",
   "execution_count": 44,
   "id": "5dd42fa3",
   "metadata": {},
   "outputs": [],
   "source": [
    "df=pd.get_dummies(data=df, columns=['InternetService', 'Contract', 'PaymentMethod','gender'],drop_first=True)\n"
   ]
  },
  {
   "cell_type": "code",
   "execution_count": 48,
   "id": "2f2bba7e",
   "metadata": {},
   "outputs": [],
   "source": [
    "# Scale features using statistics that are robust to outliers.\n",
    "\n",
    "from sklearn.preprocessing import RobustScaler\n",
    "\n",
    "X=df.drop(['Churn'],axis=1)\n",
    "y=df['Churn']\n",
    "\n",
    "rob = RobustScaler().fit(X)\n",
    "X = pd.DataFrame(rob.transform(X),columns = X.columns)"
   ]
  },
  {
   "cell_type": "code",
   "execution_count": 49,
   "id": "e3868dc3",
   "metadata": {},
   "outputs": [],
   "source": [
    "X_train, X_test, y_train, y_test = train_test_split(X, y, test_size=0.25, stratify=y)\n"
   ]
  },
  {
   "cell_type": "code",
   "execution_count": 50,
   "id": "e2d8443a",
   "metadata": {},
   "outputs": [],
   "source": [
    "from sklearn.ensemble import RandomForestClassifier\n",
    "\n",
    "\n",
    "#Creating model\n",
    "rfc = RandomForestClassifier(n_estimators=300)\n",
    "\n",
    "rfc.fit(X_train, y_train)\n",
    "\n",
    "predictions = rfc.predict(X_test)"
   ]
  },
  {
   "cell_type": "code",
   "execution_count": 52,
   "id": "1bf25b65",
   "metadata": {},
   "outputs": [
    {
     "name": "stdout",
     "output_type": "stream",
     "text": [
      "              precision    recall  f1-score   support\n",
      "\n",
      "           0       0.82      0.89      0.85      1097\n",
      "           1       0.60      0.47      0.53       397\n",
      "\n",
      "    accuracy                           0.78      1494\n",
      "   macro avg       0.71      0.68      0.69      1494\n",
      "weighted avg       0.76      0.78      0.77      1494\n",
      "\n",
      "\n",
      "[[974 123]\n",
      " [210 187]]\n"
     ]
    }
   ],
   "source": [
    "#Measuring Accuracies\n",
    "from sklearn.metrics import classification_report\n",
    "\n",
    "print(classification_report(y_test, predictions))\n",
    "print()\n",
    "print(confusion_matrix(y_test, predictions))"
   ]
  },
  {
   "cell_type": "markdown",
   "id": "25c47aaa",
   "metadata": {},
   "source": [
    "# Conclusion\n",
    "\n",
    "# Due to the PCA implementation the churn rate is showing significant difference.\n",
    "\n",
    "# We can see the difference between Logistic Model and Random Forest\n",
    "\n",
    "# Random forest builds multiple decision trees and merges them together to get a more accurate and stable prediction.\n",
    "\n",
    "# One big advantage of random forest is that it can be used for both classification and regression problems, which form the majority of current machine learning systems.\n",
    "\n",
    "\n",
    "\n",
    "\n",
    "\n"
   ]
  },
  {
   "cell_type": "code",
   "execution_count": null,
   "id": "8a8f7393",
   "metadata": {},
   "outputs": [],
   "source": []
  }
 ],
 "metadata": {
  "kernelspec": {
   "display_name": "Python 3",
   "language": "python",
   "name": "python3"
  },
  "language_info": {
   "codemirror_mode": {
    "name": "ipython",
    "version": 3
   },
   "file_extension": ".py",
   "mimetype": "text/x-python",
   "name": "python",
   "nbconvert_exporter": "python",
   "pygments_lexer": "ipython3",
   "version": "3.8.8"
  }
 },
 "nbformat": 4,
 "nbformat_minor": 5
}
